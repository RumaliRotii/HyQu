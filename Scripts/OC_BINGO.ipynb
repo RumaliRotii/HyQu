{
 "cells": [
  {
   "cell_type": "code",
   "execution_count": null,
   "metadata": {
    "tags": []
   },
   "outputs": [],
   "source": [
    "# %load_ext autoreload\n",
    "# %autoreload 2\n",
    "import sys\n",
    "sys.path.append(\"/home/qrr2/project/\")\n",
    "sys.path.append(\"/home/qrr2/project/QOGS/\")\n",
    "%load_ext autoreload\n",
    "%autoreload 2\n",
    "%matplotlib inline\n",
    "%config InlineBackend.figure_format = 'retina'\n",
    "\n",
    "# import os\n",
    "# os.environ[\"TF_GPU_ALLOCATOR\"]=\"cuda_malloc_a\"sync\" # this seems to be highly important for totally utilizing your GPU's memory, but it also breaks the profiler's memory breakdown\n",
    "# note that GradientTape needs several times the memory needed to compute the fidelity of a single circuit\n",
    "import tensorflow as tf\n",
    "import numpy as np\n",
    "import qutip as qt\n",
    "import h5py\n",
    "import pandas as pd\n",
    "from QOGS.optimizer.tf_adam_optimizer import AdamOptimizer\n",
    "from QOGS.gate_sets import GRAPE\n",
    "import matplotlib.pyplot as plt"
   ]
  },
  {
   "cell_type": "markdown",
   "metadata": {},
   "source": [
    "### Definitions"
   ]
  },
  {
   "cell_type": "code",
   "execution_count": null,
   "metadata": {},
   "outputs": [],
   "source": [
    "dim_qubit = 2                                     \n",
    "dim_resonator = 6\n",
    "fock = 3 # Target fock interger\n",
    "DAC_time_resolution = 4 # Pulse length/number of time slices\n",
    "pulse_length = 3600 # Pulse length in ns\n",
    "g = 0.00028 * np.pi * 2 # In GHz\n",
    "Id = qt.tensor(qt.qeye(dim_qubit), qt.qeye(dim_resonator))\n",
    "q = qt.tensor(qt.destroy(dim_qubit), qt.qeye(dim_resonator)) #qubit\n",
    "r = qt.tensor(qt.qeye(dim_qubit), qt.destroy(dim_resonator)) #phonon\n",
    "qd = q.dag() #qubit\n",
    "rd = r.dag() #phonon\n",
    "\n",
    "H0 = g * (rd * q + r * qd)\n",
    "Hcs = [q + qd, 1j*(q - qd)]\n",
    "\n",
    "init_states = [qt.tensor(qt.basis(dim_qubit, 0), qt.basis(dim_resonator, 0))]\n",
    "final_states = [qt.tensor(qt.basis(dim_qubit, 0), qt.basis(dim_resonator, fock))]"
   ]
  },
  {
   "cell_type": "markdown",
   "metadata": {},
   "source": [
    "### Optimization"
   ]
  },
  {
   "cell_type": "code",
   "execution_count": null,
   "metadata": {},
   "outputs": [],
   "source": [
    "name = \"GRAPE_control\"\n",
    "\n",
    "synth_params = {\n",
    "\"N_blocks\": int(pulse_length/DAC_time_resolution), \n",
    "\"N_multistart\" : 45, # Number of parallel circuit optimizations \n",
    "\"epochs\" : 5000, # Number of epochs before termination\n",
    "\"epoch_size\" : 5, # Number of adam steps per epoch\n",
    "\"learning_rate\" : tf.keras.optimizers.schedules.PiecewiseConstantDecay([50, 250], [0.2, 0.2, 0.1]), # Adam learning rate\n",
    "\"term_fid\" : 0.995, # Target fidelitiy\n",
    "\"dfid_stop\" : -1, # Stop if dfid is smaller than this number\n",
    "\"initial_states\" : init_states, \n",
    "\"target_states\" : final_states, \n",
    "\"name\" : name, \n",
    "\"coherent\" : True,\n",
    "\"filename\" : None, \n",
    "}\n",
    "\n",
    "# Initialize the gateset \n",
    "gate_set_params = {\n",
    "    \"H_static\" : H0,\n",
    "    \"H_control\" : Hcs,\n",
    "    \"DAC_delta_t\" : DAC_time_resolution,\n",
    "    \"inplace\" : False, \n",
    "    \"scale\" : 2, \n",
    "    \"bandwidth\" : 0.1/2, \n",
    "    \"gatesynthargs\": synth_params\n",
    "}\n",
    "\n",
    "GRAPE_gate_set = GRAPE(**gate_set_params)\n",
    "\n",
    "opt = AdamOptimizer(GRAPE_gate_set)\n",
    "GRAPE_gate_set.best_fidelity()\n",
    "opt.optimize()#logdir=\"logs\")"
   ]
  },
  {
   "cell_type": "markdown",
   "metadata": {},
   "source": [
    "### Pulse"
   ]
  },
  {
   "cell_type": "code",
   "execution_count": null,
   "metadata": {
    "scrolled": false
   },
   "outputs": [],
   "source": [
    "# Define the path to the pulse sequence file\n",
    "path_to_file = \"/home/qrr2/project/QOGS/examples/HyQu - Rumman/\"\n",
    "name = path_to_file + \"GRAPE_control.h5\"\n",
    "\n",
    "with h5py.File(name, \"r\") as f:\n",
    "    key = list(f.keys())[-1]\n",
    "    pulse_obj = f[key]\n",
    "    fids = pulse_obj[\"fidelities\"][:]\n",
    "    pulse_idx = np.argmax(np.amax(fids, axis=0))\n",
    "    controls = []\n",
    "    # Extract the I and Q control pulses for the pulse with the highest fidelity\n",
    "    for k in range(1):\n",
    "        controls.append(pulse_obj[\"I\" + str(k)][-1, pulse_idx, :])\n",
    "        controls.append(pulse_obj[\"Q\" + str(k)][-1, pulse_idx, :])\n",
    "    # Extract the DAC delta time from the pulse sequence attributes\n",
    "    dt = pulse_obj.attrs[\"DAC_delta_t\"]\n",
    "\n",
    "pulse_len = controls[0].shape[0] * dt\n",
    "times = np.arange(pulse_len, step=dt, dtype=float)\n",
    "print(np.max(fids))\n",
    "print(key)\n",
    "\n",
    "# Plot I and Q\n",
    "fig, ax = plt.subplots(figsize=(12, 4))\n",
    "ax.set_facecolor(\"whitesmoke\")\n",
    "plt.plot(times, 1000*controls[0], label=\"Real\", color=\"#440154FF\")  # Teal\n",
    "plt.plot(times, 1000*controls[1], label=\"Imaginary\", color=\"#2C728EFF\")  # Magenta\n",
    "plt.xlabel(\"Time (ns)\")\n",
    "plt.ylabel(\"Control Amplitude (MHz)\")\n",
    "plt.title(\"GRAPE Pulse Controls\")\n",
    "plt.legend()\n",
    "plt.show()"
   ]
  },
  {
   "cell_type": "markdown",
   "metadata": {},
   "source": [
    "### Calculate Fidelity"
   ]
  },
  {
   "cell_type": "code",
   "execution_count": null,
   "metadata": {},
   "outputs": [],
   "source": [
    "init_state = qt.tensor(qt.basis(dim_qubit, 0), qt.basis(dim_resonator, 0))\n",
    "fin_state = qt.tensor(qt.basis(dim_qubit, 0), qt.basis(dim_resonator, fock))\n",
    "\n",
    "fidelities = []\n",
    "\n",
    "H0 = g * (rd * q + r * qd)\n",
    "Hcs = [q + qd, 1j*(q - qd)]\n",
    "H_tot = [H0] + [[Hc, ctrl] for Hc, ctrl in zip(Hcs, controls)]\n",
    "\n",
    "# Simulate the evolution of the system\n",
    "result = qt.mesolve(H_tot, init_state, times, [], [])\n",
    "\n",
    "# Calculate the fidelity\n",
    "final_state = result.states[-1]\n",
    "fidelity = qt.fidelity(final_state, fin_state)\n",
    "\n",
    "print(f\"State {1} Fidelity: {fidelity}\")"
   ]
  },
  {
   "cell_type": "markdown",
   "metadata": {},
   "source": [
    "### Plot Density Matrix"
   ]
  },
  {
   "cell_type": "code",
   "execution_count": null,
   "metadata": {},
   "outputs": [],
   "source": [
    "final_state = result.states[-1]\n",
    "# Compute the density matrix of the final state\n",
    "density_matrix = final_state * final_state.dag()\n",
    "\n",
    "# Convert the density matrix to a NumPy array\n",
    "density_matrix_np = density_matrix.full()\n",
    "\n",
    "# Visualize the density matrix\n",
    "fig, ax = qt.hinton(density_matrix)\n",
    "plt.title('Density Matrix')\n",
    "plt.show()"
   ]
  },
  {
   "cell_type": "markdown",
   "metadata": {},
   "source": [
    "### Plot Average Population Evolution"
   ]
  },
  {
   "cell_type": "code",
   "execution_count": null,
   "metadata": {},
   "outputs": [],
   "source": [
    "# Number operator for the resonator\n",
    "n_r = qt.tensor(qt.qeye(dim_qubit), qt.num(dim_resonator))\n",
    "\n",
    "# List of initial states for which to plot the population evolution\n",
    "initial_states_to_plot = [qt.tensor(qt.basis(dim_qubit, 0), qt.basis(dim_resonator, 0))]\n",
    "\n",
    "for init_state in initial_states_to_plot:\n",
    "    H0 = g * (rd * q + r * qd)\n",
    "    Hcs = [q + qd, 1j*(q - qd)]\n",
    "    H_tot = [H0] + [[Hc, ctrl] for Hc, ctrl in zip(Hcs, controls)]\n",
    "\n",
    "    # Simulate the evolution\n",
    "    result = qt.mesolve(H_tot, init_state, times, [], e_ops=[n_r])\n",
    "    \n",
    "    # Plotting\n",
    "    plt.figure(figsize=(10, 6))\n",
    "\n",
    "    # Plot the expectation values for the resonator\n",
    "    plt.plot(times, result.expect[0], lw=2, label='Resonator')\n",
    "\n",
    "    plt.xlabel('Time (ns)', fontsize=12)\n",
    "    plt.ylabel('Average Population', fontsize=12)\n",
    "    plt.title(f'Average Population in HBAR Over Time', fontsize=14)\n",
    "    plt.legend(fontsize=10)\n",
    "    plt.tight_layout()\n",
    "    plt.show()"
   ]
  },
  {
   "cell_type": "markdown",
   "metadata": {},
   "source": [
    "### Save CSV"
   ]
  },
  {
   "cell_type": "code",
   "execution_count": null,
   "metadata": {},
   "outputs": [],
   "source": [
    "def h5_to_expanded_csv(h5_filepath, csv_filepath):\n",
    "    with h5py.File(h5_filepath, 'r') as f:\n",
    "        key = list(f.keys())[-1]\n",
    "        pulse_obj = f[key]\n",
    "        fids = pulse_obj['fidelities'][:]\n",
    "        pulse_idx = np.argmax(np.amax(fids, axis=0))\n",
    "        I_pulse = pulse_obj['I0'][-1, pulse_idx, :] * 1000\n",
    "        Q_pulse = pulse_obj['Q0'][-1, pulse_idx, :] * 1000\n",
    "        \n",
    "        expanded_rows = []\n",
    "        for i, q in zip(I_pulse, Q_pulse):\n",
    "            for _ in range(4):\n",
    "                expanded_rows.append([i, q])\n",
    "        \n",
    "        expanded_df = pd.DataFrame(expanded_rows)\n",
    "        expanded_df.insert(0, 'Time', range(len(expanded_df)))\n",
    "        expanded_df.to_csv(csv_filepath, index=False, header=False)\n",
    "        print(f\"Modified CSV has been saved to {csv_filepath}\")\n",
    "        \n",
    "h5_filepath = '/home/qrr2/project/QOGS/examples/HyQu - Rumman/GRAPE_control.h5'\n",
    "csv_filepath = '/home/qrr2/project/QOGS/examples/HyQu - Rumman/GRAPE_control.csv'\n",
    "h5_to_expanded_csv(h5_filepath, csv_filepath)"
   ]
  },
  {
   "cell_type": "markdown",
   "metadata": {},
   "source": [
    "# To Prepare Cats"
   ]
  },
  {
   "cell_type": "code",
   "execution_count": null,
   "metadata": {},
   "outputs": [],
   "source": [
    "dim_qubit = 2                                     \n",
    "dim_resonator = 15\n",
    "alpha = 3\n",
    "DAC_time_resolution = 4\n",
    "g = 0.00028 * np.pi * 2\n",
    "Id = qt.tensor(qt.qeye(dim_qubit), qt.qeye(dim_resonator))\n",
    "q = qt.tensor(qt.destroy(dim_qubit), qt.qeye(dim_resonator)) \n",
    "r = qt.tensor(qt.qeye(dim_qubit), qt.destroy(dim_resonator)) \n",
    "qd = q.dag() # Qubit\n",
    "rd = r.dag() # Phonon\n",
    "\n",
    "H0 = g * (rd * q + r * qd)\n",
    "Hcs = [q + qd, 1j*(q - qd)]\n",
    "\n",
    "init_states = [qt.tensor(qt.basis(dim_qubit, 0), qt.basis(dim_resonator, 0))]\n",
    "\n",
    "# Create even and odd cat states for the resonator\n",
    "cat_plus = (qt.coherent(dim_resonator, alpha) + qt.coherent(dim_resonator, -alpha)).unit()\n",
    "cat_minus = (qt.coherent(dim_resonator, alpha) - qt.coherent(dim_resonator, -alpha)).unit()\n",
    "\n",
    "# Define a four-legged cat state\n",
    "cat_four_legged = (qt.coherent(dim_resonator, alpha) + qt.coherent(dim_resonator, -alpha) +\n",
    "                   qt.coherent(dim_resonator, 1j * alpha) + qt.coherent(dim_resonator, -1j * alpha)).unit()\n",
    "\n",
    "final_resonator_state = cat_four_legged\n",
    "final_states = [qt.tensor(qt.basis(dim_qubit, 0), final_resonator_state)]"
   ]
  },
  {
   "cell_type": "markdown",
   "metadata": {},
   "source": [
    "# To Prepare GKP"
   ]
  },
  {
   "cell_type": "code",
   "execution_count": null,
   "metadata": {},
   "outputs": [],
   "source": [
    "dim_qubit = 2                                     \n",
    "dim_resonator = 30\n",
    "DAC_time_resolution = 4\n",
    "g = 0.00028 * np.pi * 2\n",
    "Id = qt.tensor(qt.qeye(dim_qubit), qt.qeye(dim_resonator))\n",
    "q = qt.tensor(qt.destroy(dim_qubit), qt.qeye(dim_resonator)) \n",
    "r = qt.tensor(qt.qeye(dim_qubit), qt.destroy(dim_resonator)) \n",
    "qd = q.dag() # Qubit\n",
    "rd = r.dag() # Phonon\n",
    "\n",
    "H0 = g * (rd * q + r * qd)\n",
    "Hcs = [q + qd, 1j*(q - qd)]\n",
    "\n",
    "init_states = [qt.tensor(qt.basis(dim_qubit, 0), qt.basis(dim_resonator, 0))]\n",
    "\n",
    "# Function to create a finite-energy GKP state\n",
    "def finite_energy_gkp_state(N, d, alpha=np.sqrt(np.pi), epsilon=0.1):\n",
    "    psi = basis(N, 0)  # initial state\n",
    "    for m in range(-d, d + 1):\n",
    "        for n in range(-d, d + 1):\n",
    "            displacement_operator = displace(N, m * alpha) \n",
    "                                  * displace(N, 1j * n * alpha)\n",
    "            state = displacement_operator * basis(N, 0)\n",
    "            fock_damping = (1 / np.sqrt(np.cosh(epsilon))) \n",
    "                         * (-epsilon * num(N)).expm()\n",
    "            state = fock_damping * state\n",
    "            psi += state\n",
    "    return psi.unit()\n",
    "\n",
    "# Define parameters\n",
    "d = 3  # Grid size\n",
    "\n",
    "alpha = np.sqrt(np.pi)  # Lattice spacing in phase space\n",
    "epsilon = 0.1  # Finite energy parameter\n",
    "\n",
    "# Create the finite-energy GKP state\n",
    "psi_gkp = finite_energy_gkp_state(dim_resonator, d, alpha, epsilon)\n",
    "final_states = [qt.tensor(qt.basis(dim_qubit, 0), psi_gkp)]"
   ]
  }
 ],
 "metadata": {
  "kernelspec": {
   "display_name": "Python 3 (ipykernel)",
   "language": "python",
   "name": "python3"
  },
  "language_info": {
   "codemirror_mode": {
    "name": "ipython",
    "version": 3
   },
   "file_extension": ".py",
   "mimetype": "text/x-python",
   "name": "python",
   "nbconvert_exporter": "python",
   "pygments_lexer": "ipython3",
   "version": "3.9.16"
  },
  "vscode": {
   "interpreter": {
    "hash": "e7370f93d1d0cde622a1f8e1c04877d8463912d04d973331ad4851f04de6915a"
   }
  }
 },
 "nbformat": 4,
 "nbformat_minor": 4
}
