{
 "cells": [
  {
   "cell_type": "code",
   "execution_count": null,
   "metadata": {},
   "outputs": [],
   "source": [
    "import sys\n",
    "sys.path.append(\"/home/qrr2/project/\")\n",
    "sys.path.append(\"/home/qrr2/project/QOGS/\")\n",
    "import numpy as np\n",
    "from scipy.ndimage import gaussian_filter\n",
    "import qutip as qt\n",
    "import matplotlib\n",
    "import matplotlib.pyplot as plt\n",
    "import csv\n",
    "from pathlib import Path\n",
    "from qutip import fidelity, basis, tensor, mesolve, fock, qeye, destroy, sesolve\n",
    "import qutip.control.pulseoptim as cpo\n",
    "import pandas as pd\n",
    "import logging\n",
    "\n",
    "# Initialize the logger correctly\n",
    "logger = logging.getLogger()\n",
    "log_level = logging.INFO  \n",
    "logger.setLevel(log_level)\n",
    "\n",
    "# Set up console logging\n",
    "ch = logging.StreamHandler()\n",
    "ch.setLevel(log_level)\n",
    "formatter = logging.Formatter('%(asctime)s - %(name)s - %(levelname)s - %(message)s')\n",
    "ch.setFormatter(formatter)\n",
    "logger.addHandler(ch)\n",
    "\n",
    "matplotlib.get_backend()"
   ]
  },
  {
   "cell_type": "markdown",
   "metadata": {},
   "source": [
    "### Definitions"
   ]
  },
  {
   "cell_type": "code",
   "execution_count": null,
   "metadata": {},
   "outputs": [],
   "source": [
    "dim_qubit = 2 # Qubit dimension\n",
    "dim_resonator = 6 # Resontor dimension\n",
    "Id = tensor(qeye(dim_qubit), qeye(dim_resonator))\n",
    "q = tensor(destroy(dim_qubit), qeye(dim_resonator)) # Qubit\n",
    "r = tensor(qeye(dim_qubit), destroy(dim_resonator)) # Phonon mode\n",
    "qd = q.dag()                  \n",
    "rd = r.dag()  \n",
    "\n",
    "target_fock = 3 # Target fock integer\n",
    "g = 0.28 * np.pi * 2 # In MHz\n",
    "H_static = g * (rd * q + r * qd)\n",
    "Hcs = [q + qd, 1j*(q - qd)]\n",
    "n_cs = len(Hcs)\n",
    "\n",
    "init_state = tensor(basis(dim_qubit, 0), fock(dim_resonator, 0))\n",
    "target_state = tensor(basis(dim_qubit, 0), fock(dim_resonator, target_fock))"
   ]
  },
  {
   "cell_type": "markdown",
   "metadata": {},
   "source": [
    "### Optimization"
   ]
  },
  {
   "cell_type": "code",
   "execution_count": null,
   "metadata": {
    "scrolled": false
   },
   "outputs": [],
   "source": [
    "# Define optimization parameters\n",
    "n_ts = 750 # Number of time slices\n",
    "evo_time = 3 # Pulse length in (*@\\textcolor{codegreen}{$\\mu$}@*)s\n",
    "fid_err_targ = 1e-20 # Target infedility\n",
    "max_iter = 10000 # Maximum number of iterations\n",
    "max_wall_time = 2000 # Maximum real-world time it will run in s\n",
    "p_type = 'SINE' # Type of pulse basis   \n",
    "f_ext = 'pulse_sequence.csv' \n",
    "method_params = {'xtol': 1e-6} # Tolerance for convergence\n",
    "\n",
    "result = cpo.opt_pulse_crab_unitary(H_static, Hcs, init_state, \n",
    "         target_state, n_ts, evo_time, fid_err_targ=fid_err_targ,\n",
    "         max_iter=max_iter, max_wall_time=max_wall_time,\n",
    "         method_params=method_params,\n",
    "         guess_pulse_type=p_type, guess_pulse_action=\"modulate\",\n",
    "         out_file_ext=f_ext,\n",
    "         log_level=log_level, gen_stats=True)"
   ]
  },
  {
   "cell_type": "markdown",
   "metadata": {},
   "source": [
    "### Pulse"
   ]
  },
  {
   "cell_type": "code",
   "execution_count": null,
   "metadata": {},
   "outputs": [],
   "source": [
    "# Extract I and Q components\n",
    "I = result.final_amps[:, 0]\n",
    "Q = result.final_amps[:, 1]\n",
    "\n",
    "# Convert lists to numpy arrays\n",
    "I = np.array(I, dtype=float)\n",
    "Q = np.array(Q, dtype=float)\n",
    "time = np.arange(evo_time, step=(evo_time/n_ts), dtype=float)\n",
    "\n",
    "# Plot I and Q components vs time\n",
    "fig, ax = plt.subplots(figsize=(12, 4))\n",
    "ax.set_facecolor(\"whitesmoke\")\n",
    "plt.plot(time*1000, I, label=\"Real\", color=\"#440154FF\")\n",
    "plt.plot(time*1000, Q, label=\"Imaginary\", color=\"#2C728EFF\")\n",
    "plt.xlabel(\"Time (ns)\")\n",
    "plt.ylabel(\"Amplitude (MHz)\")\n",
    "plt.title(\"Control Pulses: I and Q vs Time\")\n",
    "plt.legend()\n",
    "plt.grid(True)\n",
    "plt.tight_layout()\n",
    "plt.show()"
   ]
  },
  {
   "cell_type": "markdown",
   "metadata": {},
   "source": [
    "### Calculate Fidelity"
   ]
  },
  {
   "cell_type": "code",
   "execution_count": null,
   "metadata": {},
   "outputs": [],
   "source": [
    "# Construct the time-dependent Hamiltonian\n",
    "H_tot = [H_static] + [[Hcs[0], I], [Hcs[1], Q]]\n",
    "\n",
    "# Simulate the evolution of the system\n",
    "result = qt.sesolve(H_tot, init_state, time, [])\n",
    "\n",
    "# Calculate the fidelity\n",
    "final_state = result.states[-1]\n",
    "fidelity = np.abs(final_state.overlap(target_state)) ** 2\n",
    "\n",
    "# Print the fidelity\n",
    "print(f\"Fidelity: {fidelity}\")"
   ]
  },
  {
   "cell_type": "markdown",
   "metadata": {},
   "source": [
    "### Plot Density Matrix"
   ]
  },
  {
   "cell_type": "code",
   "execution_count": null,
   "metadata": {},
   "outputs": [],
   "source": [
    "final_state = result.states[-1]\n",
    "# Compute the density matrix of the final state\n",
    "density_matrix = final_state * final_state.dag()\n",
    "\n",
    "# Convert the density matrix to a NumPy array\n",
    "density_matrix_np = density_matrix.full()\n",
    "\n",
    "# Visualize the density matrix\n",
    "fig, ax = qt.hinton(density_matrix)\n",
    "plt.title('Density Matrix')\n",
    "plt.show()"
   ]
  },
  {
   "cell_type": "markdown",
   "metadata": {},
   "source": [
    "### Plot Average Population Evolution"
   ]
  },
  {
   "cell_type": "code",
   "execution_count": null,
   "metadata": {},
   "outputs": [],
   "source": [
    "# Number operators for the resonator\n",
    "n_r = qt.tensor(qt.qeye(dim_qubit), qt.num(dim_resonator))\n",
    "\n",
    "# List of initial states for which to plot the population evolution\n",
    "initial_states_to_plot = [tensor(basis(dim_qubit, 0), fock(dim_resonator, 0))]\n",
    "\n",
    "for init_state in initial_states_to_plot:\n",
    "\n",
    "    # Simulate the evolution\n",
    "    result = qt.mesolve(H_tot, init_state, time, [], e_ops=[n_r])\n",
    "\n",
    "    # Plotting\n",
    "    plt.figure(figsize=(10, 6))\n",
    "\n",
    "    # Plot the expectation values for each cavity\n",
    "    plt.plot(time, result.expect[0], lw=2, label='Resonator')\n",
    "\n",
    "    plt.xlabel('Time (ns)', fontsize=12)\n",
    "    plt.ylabel('Average Population', fontsize=12)\n",
    "    plt.title(f'Average Population in HBAR Over Time', fontsize=14)\n",
    "    plt.legend(fontsize=10)\n",
    "    plt.tight_layout()\n",
    "    plt.show()"
   ]
  },
  {
   "cell_type": "markdown",
   "metadata": {},
   "source": [
    "### Save CSV"
   ]
  },
  {
   "cell_type": "code",
   "execution_count": null,
   "metadata": {},
   "outputs": [],
   "source": [
    "# CSV file ready for Gandalf\n",
    "output_file = \"CRAB_control.csv\"\n",
    "expanded_rows = []\n",
    "for i, q in zip(I, Q):\n",
    "    for _ in range(4):\n",
    "        expanded_rows.append([i, q])\n",
    "expanded_df = pd.DataFrame(expanded_rows)\n",
    "expanded_df.insert(0, \"Time\", range(len(expanded_df)))\n",
    "expanded_df.to_csv(output_file, index=False, header=False)\n",
    "print(f\"CSV has been saved to {output_file}\")"
   ]
  },
  {
   "cell_type": "code",
   "execution_count": null,
   "metadata": {},
   "outputs": [],
   "source": []
  }
 ],
 "metadata": {
  "kernelspec": {
   "display_name": "Python 3 (ipykernel)",
   "language": "python",
   "name": "python3"
  },
  "language_info": {
   "codemirror_mode": {
    "name": "ipython",
    "version": 3
   },
   "file_extension": ".py",
   "mimetype": "text/x-python",
   "name": "python",
   "nbconvert_exporter": "python",
   "pygments_lexer": "ipython3",
   "version": "3.9.16"
  }
 },
 "nbformat": 4,
 "nbformat_minor": 2
}
